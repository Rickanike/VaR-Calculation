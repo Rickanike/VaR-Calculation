{
 "cells": [
  {
   "cell_type": "markdown",
   "id": "25726599",
   "metadata": {},
   "source": [
    "# Historical Series VaR"
   ]
  },
  {
   "cell_type": "code",
   "execution_count": 1,
   "id": "8b8961c5",
   "metadata": {},
   "outputs": [],
   "source": [
    "import pandas as pd\n",
    "import numpy as np\n",
    "import matplotlib.pyplot as plt"
   ]
  },
  {
   "cell_type": "code",
   "execution_count": 2,
   "id": "96c8e37a",
   "metadata": {},
   "outputs": [
    {
     "name": "stdout",
     "output_type": "stream",
     "text": [
      "        fund_symbol  price_date   open   high    low  close  adj_close  volume\n",
      "0               AAA  2020-09-09  25.10  25.12  25.07  25.07      24.85   17300\n",
      "1               AAA  2020-09-10  25.06  25.07  25.05  25.07      24.85   23500\n",
      "2               AAA  2020-09-11  25.04  25.05  25.02  25.03      24.81   33400\n",
      "3               AAA  2020-09-14  25.01  25.06  25.01  25.02      24.80   13100\n",
      "4               AAA  2020-09-15  25.02  25.03  25.01  25.01      24.79   12100\n",
      "...             ...         ...    ...    ...    ...    ...        ...     ...\n",
      "3866025         ZSL  2021-11-23  26.81  27.21  26.30  26.35      26.35  190900\n",
      "3866026         ZSL  2021-11-24  26.79  26.96  26.57  26.69      26.69  109000\n",
      "3866027         ZSL  2021-11-26  26.67  28.14  26.67  27.72      27.72  205500\n",
      "3866028         ZSL  2021-11-29  27.89  28.56  27.80  28.27      28.27  411900\n",
      "3866029         ZSL  2021-11-30  28.15  28.73  25.91  28.49      28.49  219400\n",
      "\n",
      "[3866030 rows x 8 columns]\n"
     ]
    }
   ],
   "source": [
    "directory = 'C:/Users/ricar/Desktop/Directorio de R/ETF_prices.csv'\n",
    "\n",
    "DB= pd.read_csv(directory)\n",
    "\n",
    "print(DB)"
   ]
  },
  {
   "cell_type": "code",
   "execution_count": 3,
   "id": "f205917e",
   "metadata": {},
   "outputs": [
    {
     "name": "stdout",
     "output_type": "stream",
     "text": [
      "        fund_symbol price_date  adj_close\n",
      "0               AAA 2020-09-09      24.85\n",
      "1               AAA 2020-09-10      24.85\n",
      "2               AAA 2020-09-11      24.81\n",
      "3               AAA 2020-09-14      24.80\n",
      "4               AAA 2020-09-15      24.79\n",
      "...             ...        ...        ...\n",
      "3866025         ZSL 2021-11-23      26.35\n",
      "3866026         ZSL 2021-11-24      26.69\n",
      "3866027         ZSL 2021-11-26      27.72\n",
      "3866028         ZSL 2021-11-29      28.27\n",
      "3866029         ZSL 2021-11-30      28.49\n",
      "\n",
      "[3866030 rows x 3 columns]\n"
     ]
    }
   ],
   "source": [
    "VaR_DB= DB[['fund_symbol','price_date', 'adj_close']]\n",
    "\n",
    "VaR_DB = VaR_DB.copy()\n",
    "## By using .copy() on the DataFrame, you create a new independent copy that can be modified without affecting the original data.\n",
    "##Then, you can use .loc to assign the converted values to the 'price_date' column.\n",
    "##This should address the warning and allow you to convert the 'price_date' column to datetime format in the VaR_DB DataFrame.\n",
    "\n",
    "VaR_DB.loc[:, ['price_date']] = pd.to_datetime(VaR_DB['price_date'])\n",
    "print(VaR_DB)"
   ]
  },
  {
   "cell_type": "code",
   "execution_count": 4,
   "id": "59bc5eb0",
   "metadata": {},
   "outputs": [
    {
     "name": "stdout",
     "output_type": "stream",
     "text": [
      "datetime64[ns]\n"
     ]
    }
   ],
   "source": [
    "print(VaR_DB[('price_date')].dtype)"
   ]
  },
  {
   "cell_type": "code",
   "execution_count": 5,
   "id": "c293bbe3",
   "metadata": {},
   "outputs": [
    {
     "data": {
      "text/html": [
       "<div>\n",
       "<style scoped>\n",
       "    .dataframe tbody tr th:only-of-type {\n",
       "        vertical-align: middle;\n",
       "    }\n",
       "\n",
       "    .dataframe tbody tr th {\n",
       "        vertical-align: top;\n",
       "    }\n",
       "\n",
       "    .dataframe thead th {\n",
       "        text-align: right;\n",
       "    }\n",
       "</style>\n",
       "<table border=\"1\" class=\"dataframe\">\n",
       "  <thead>\n",
       "    <tr style=\"text-align: right;\">\n",
       "      <th></th>\n",
       "      <th>fund_symbol</th>\n",
       "      <th>price_date</th>\n",
       "      <th>adj_close</th>\n",
       "    </tr>\n",
       "  </thead>\n",
       "  <tbody>\n",
       "    <tr>\n",
       "      <th>0</th>\n",
       "      <td>AAA</td>\n",
       "      <td>2020-09-09</td>\n",
       "      <td>24.85</td>\n",
       "    </tr>\n",
       "    <tr>\n",
       "      <th>1</th>\n",
       "      <td>AAA</td>\n",
       "      <td>2020-09-10</td>\n",
       "      <td>24.85</td>\n",
       "    </tr>\n",
       "    <tr>\n",
       "      <th>2</th>\n",
       "      <td>AAA</td>\n",
       "      <td>2020-09-11</td>\n",
       "      <td>24.81</td>\n",
       "    </tr>\n",
       "    <tr>\n",
       "      <th>3</th>\n",
       "      <td>AAA</td>\n",
       "      <td>2020-09-14</td>\n",
       "      <td>24.80</td>\n",
       "    </tr>\n",
       "    <tr>\n",
       "      <th>4</th>\n",
       "      <td>AAA</td>\n",
       "      <td>2020-09-15</td>\n",
       "      <td>24.79</td>\n",
       "    </tr>\n",
       "    <tr>\n",
       "      <th>...</th>\n",
       "      <td>...</td>\n",
       "      <td>...</td>\n",
       "      <td>...</td>\n",
       "    </tr>\n",
       "    <tr>\n",
       "      <th>305</th>\n",
       "      <td>AAA</td>\n",
       "      <td>2021-11-23</td>\n",
       "      <td>25.03</td>\n",
       "    </tr>\n",
       "    <tr>\n",
       "      <th>306</th>\n",
       "      <td>AAA</td>\n",
       "      <td>2021-11-24</td>\n",
       "      <td>25.02</td>\n",
       "    </tr>\n",
       "    <tr>\n",
       "      <th>307</th>\n",
       "      <td>AAA</td>\n",
       "      <td>2021-11-26</td>\n",
       "      <td>25.02</td>\n",
       "    </tr>\n",
       "    <tr>\n",
       "      <th>308</th>\n",
       "      <td>AAA</td>\n",
       "      <td>2021-11-29</td>\n",
       "      <td>25.03</td>\n",
       "    </tr>\n",
       "    <tr>\n",
       "      <th>309</th>\n",
       "      <td>AAA</td>\n",
       "      <td>2021-11-30</td>\n",
       "      <td>25.04</td>\n",
       "    </tr>\n",
       "  </tbody>\n",
       "</table>\n",
       "<p>310 rows × 3 columns</p>\n",
       "</div>"
      ],
      "text/plain": [
       "    fund_symbol price_date  adj_close\n",
       "0           AAA 2020-09-09      24.85\n",
       "1           AAA 2020-09-10      24.85\n",
       "2           AAA 2020-09-11      24.81\n",
       "3           AAA 2020-09-14      24.80\n",
       "4           AAA 2020-09-15      24.79\n",
       "..          ...        ...        ...\n",
       "305         AAA 2021-11-23      25.03\n",
       "306         AAA 2021-11-24      25.02\n",
       "307         AAA 2021-11-26      25.02\n",
       "308         AAA 2021-11-29      25.03\n",
       "309         AAA 2021-11-30      25.04\n",
       "\n",
       "[310 rows x 3 columns]"
      ]
     },
     "execution_count": 5,
     "metadata": {},
     "output_type": "execute_result"
    }
   ],
   "source": [
    "## Filter data Fund AAA\n",
    "\n",
    "VaR_AA = VaR_DB[VaR_DB['fund_symbol']== 'AAA']\n",
    "\n",
    "VaR_AA"
   ]
  },
  {
   "cell_type": "code",
   "execution_count": 6,
   "id": "2775cedd",
   "metadata": {},
   "outputs": [
    {
     "name": "stdout",
     "output_type": "stream",
     "text": [
      "    fund_symbol price_date  adj_close   returns\n",
      "0           AAA 2020-09-09      24.85       NaN\n",
      "1           AAA 2020-09-10      24.85  0.000000\n",
      "2           AAA 2020-09-11      24.81 -0.001611\n",
      "3           AAA 2020-09-14      24.80 -0.000403\n",
      "4           AAA 2020-09-15      24.79 -0.000403\n",
      "..          ...        ...        ...       ...\n",
      "305         AAA 2021-11-23      25.03 -0.000799\n",
      "306         AAA 2021-11-24      25.02 -0.000400\n",
      "307         AAA 2021-11-26      25.02  0.000000\n",
      "308         AAA 2021-11-29      25.03  0.000400\n",
      "309         AAA 2021-11-30      25.04  0.000399\n",
      "\n",
      "[310 rows x 4 columns]\n"
     ]
    }
   ],
   "source": [
    "## Logarithmic returns\n",
    "VaR_AA = VaR_AA.copy()\n",
    "VaR_AA['returns'] = np.log(VaR_AA['adj_close'] / VaR_AA['adj_close'].shift(1))\n",
    "\n",
    "print(VaR_AA)\n",
    "## indicates that there is a division operation where the divisor is zero, resulting in a division by zero. \n",
    "## As a result, the logarithm function (np.log()) encounters a division by zero, which is not a valid mathematical operation."
   ]
  },
  {
   "cell_type": "code",
   "execution_count": 7,
   "id": "83bf7836",
   "metadata": {},
   "outputs": [],
   "source": [
    "confidence_level = 0.95\n",
    "time_horizons = [1, 7, 15, 30, 60, 90, 180] "
   ]
  },
  {
   "cell_type": "code",
   "execution_count": 8,
   "id": "05bed341",
   "metadata": {},
   "outputs": [
    {
     "name": "stdout",
     "output_type": "stream",
     "text": [
      "VaR for 1 days: -0.0007996801705642901\n",
      "VaR for 7 days: -0.002115754859702826\n",
      "VaR for 15 days: -0.003097147982887802\n",
      "VaR for 30 days: -0.004380028682076404\n",
      "VaR for 60 days: -0.006194295965775604\n",
      "VaR for 90 days: -0.007586432215965282\n",
      "VaR for 180 days: -0.010728835329842274\n"
     ]
    }
   ],
   "source": [
    "for horizon in time_horizons:\n",
    "    var = VaR_AA['returns'].quantile(1 - confidence_level)\n",
    "    var_horizon = var * np.sqrt(horizon)\n",
    "    print(f\"VaR for {horizon} days: {var_horizon}\")"
   ]
  },
  {
   "cell_type": "code",
   "execution_count": 9,
   "id": "d0ddde5f",
   "metadata": {},
   "outputs": [
    {
     "data": {
      "text/plain": [
       "25.04"
      ]
     },
     "execution_count": 9,
     "metadata": {},
     "output_type": "execute_result"
    }
   ],
   "source": [
    "last_price= VaR_AA.iloc[-1]\n",
    "last_price_VaR = last_price[\"adj_close\"]\n",
    "\n",
    "last_price_VaR"
   ]
  },
  {
   "cell_type": "markdown",
   "id": "9f8664a4",
   "metadata": {},
   "source": [
    "## VaR loss amount"
   ]
  },
  {
   "cell_type": "code",
   "execution_count": 1,
   "id": "ef37a611",
   "metadata": {},
   "outputs": [
    {
     "ename": "NameError",
     "evalue": "name 'time_horizons' is not defined",
     "output_type": "error",
     "traceback": [
      "\u001b[1;31m---------------------------------------------------------------------------\u001b[0m",
      "\u001b[1;31mNameError\u001b[0m                                 Traceback (most recent call last)",
      "\u001b[1;32m~\\AppData\\Local\\Temp\\ipykernel_12256\\876996505.py\u001b[0m in \u001b[0;36m<module>\u001b[1;34m\u001b[0m\n\u001b[0;32m      1\u001b[0m \u001b[1;31m## Amount lose\u001b[0m\u001b[1;33m\u001b[0m\u001b[1;33m\u001b[0m\u001b[0m\n\u001b[0;32m      2\u001b[0m \u001b[1;33m\u001b[0m\u001b[0m\n\u001b[1;32m----> 3\u001b[1;33m \u001b[1;32mfor\u001b[0m \u001b[0mhorizon\u001b[0m \u001b[1;32min\u001b[0m \u001b[0mtime_horizons\u001b[0m\u001b[1;33m:\u001b[0m\u001b[1;33m\u001b[0m\u001b[1;33m\u001b[0m\u001b[0m\n\u001b[0m\u001b[0;32m      4\u001b[0m     \u001b[0mvar\u001b[0m \u001b[1;33m=\u001b[0m \u001b[0mVaR_AA\u001b[0m\u001b[1;33m[\u001b[0m\u001b[1;34m'returns'\u001b[0m\u001b[1;33m]\u001b[0m\u001b[1;33m.\u001b[0m\u001b[0mquantile\u001b[0m\u001b[1;33m(\u001b[0m\u001b[1;36m1\u001b[0m \u001b[1;33m-\u001b[0m \u001b[0mconfidence_level\u001b[0m\u001b[1;33m)\u001b[0m\u001b[1;33m\u001b[0m\u001b[1;33m\u001b[0m\u001b[0m\n\u001b[0;32m      5\u001b[0m     \u001b[0mvar_horizon\u001b[0m \u001b[1;33m=\u001b[0m \u001b[0mround\u001b[0m\u001b[1;33m(\u001b[0m\u001b[0mlast_price_VaR\u001b[0m \u001b[1;33m*\u001b[0m \u001b[1;33m(\u001b[0m\u001b[0mvar\u001b[0m \u001b[1;33m*\u001b[0m \u001b[0mnp\u001b[0m\u001b[1;33m.\u001b[0m\u001b[0msqrt\u001b[0m\u001b[1;33m(\u001b[0m\u001b[0mhorizon\u001b[0m\u001b[1;33m)\u001b[0m\u001b[1;33m)\u001b[0m\u001b[1;33m,\u001b[0m\u001b[1;36m2\u001b[0m\u001b[1;33m)\u001b[0m\u001b[1;33m\u001b[0m\u001b[1;33m\u001b[0m\u001b[0m\n",
      "\u001b[1;31mNameError\u001b[0m: name 'time_horizons' is not defined"
     ]
    }
   ],
   "source": [
    "## Amount lose\n",
    "\n",
    "for horizon in time_horizons:\n",
    "    var = VaR_AA['returns'].quantile(1 - confidence_level)\n",
    "    var_horizon = round(last_price_VaR * (var * np.sqrt(horizon)),2)\n",
    "    print(f\"VaR for {horizon} days: {var_horizon}\")"
   ]
  },
  {
   "cell_type": "code",
   "execution_count": 11,
   "id": "d06c1b5c",
   "metadata": {},
   "outputs": [
    {
     "data": {
      "image/png": "[encoded data removed]",
      "text/plain": [
       "<Figure size 640x480 with 1 Axes>"
      ]
     },
     "metadata": {},
     "output_type": "display_data"
    }
   ],
   "source": [
    "plt.hist(VaR_AA['returns'])\n",
    "plt.show()"
   ]
  },
  {
   "cell_type": "code",
   "execution_count": 12,
   "id": "fa76edaa",
   "metadata": {},
   "outputs": [
    {
     "name": "stdout",
     "output_type": "stream",
     "text": [
      "The data is normally distributed.\n"
     ]
    }
   ],
   "source": [
    "# Shapiro-Wilk Test: Normality\n",
    "\n",
    "from scipy.stats import shapiro\n",
    "\n",
    "# Assuming 'data' is the column of interest in your DataFrame\n",
    "p_value = shapiro(VaR_AA['returns'])[1]\n",
    "\n",
    "# Check if p-value is less than a significance level (e.g., 0.05)\n",
    "if p_value < 0.05:\n",
    "    print(\"The data is not normally distributed.\")\n",
    "else:\n",
    "    print(\"The data is normally distributed.\")"
   ]
  },
  {
   "cell_type": "markdown",
   "id": "c1e4354d",
   "metadata": {},
   "source": [
    "#  Montecarlo Simulation"
   ]
  },
  {
   "cell_type": "code",
   "execution_count": 18,
   "id": "467856f3",
   "metadata": {},
   "outputs": [],
   "source": [
    "num_simulations = 10000"
   ]
  },
  {
   "cell_type": "code",
   "execution_count": 19,
   "id": "f3650a5f",
   "metadata": {},
   "outputs": [
    {
     "name": "stdout",
     "output_type": "stream",
     "text": [
      "VaR for 1 days: -0.000760150610134141\n",
      "VaR for 7 days: -0.001903612203163696\n",
      "VaR for 15 days: -0.002667102317837322\n",
      "VaR for 30 days: -0.003528841353334621\n",
      "VaR for 60 days: -0.004324323648359833\n",
      "VaR for 90 days: -0.005162146440324404\n",
      "VaR for 180 days: -0.005974880585449926\n"
     ]
    }
   ],
   "source": [
    "for horizon in time_horizons:\n",
    "    returns = VaR_AA['returns']\n",
    "    last_price = last_price_VaR\n",
    "\n",
    "    # Generate simulated price paths\n",
    "    simulations = np.random.normal(returns.mean(), returns.std(), (horizon, num_simulations))\n",
    "    simulated_prices = last_price * np.exp(simulations.cumsum(axis=0))\n",
    "\n",
    "    # Calculate the portfolio returns for each simulation\n",
    "    portfolio_returns = simulated_prices[-1] / last_price - 1\n",
    "    \n",
    "    \n",
    "    # Convert portfolio_returns to a pandas Series\n",
    "    portfolio_returns = pd.Series(portfolio_returns)\n",
    "\n",
    "    # Calculate VaR using quantile\n",
    "    var = portfolio_returns.quantile(1 - confidence_level)\n",
    "\n",
    "    print(f\"VaR for {horizon} days: {var}\")"
   ]
  },
  {
   "cell_type": "code",
   "execution_count": null,
   "id": "66093758",
   "metadata": {},
   "outputs": [],
   "source": []
  }
 ],
 "metadata": {
  "kernelspec": {
   "display_name": "Python 3 (ipykernel)",
   "language": "python",
   "name": "python3"
  },
  "language_info": {
   "codemirror_mode": {
    "name": "ipython",
    "version": 3
   },
   "file_extension": ".py",
   "mimetype": "text/x-python",
   "name": "python",
   "nbconvert_exporter": "python",
   "pygments_lexer": "ipython3",
   "version": "3.9.13"
  }
 },
 "nbformat": 4,
 "nbformat_minor": 5
}
